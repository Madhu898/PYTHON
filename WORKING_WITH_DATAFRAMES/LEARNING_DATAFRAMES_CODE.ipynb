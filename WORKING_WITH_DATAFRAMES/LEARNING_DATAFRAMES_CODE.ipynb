{
 "cells": [
  {
   "cell_type": "markdown",
   "metadata": {},
   "source": [
    "## DATAFRAMES"
   ]
  },
  {
   "cell_type": "code",
   "execution_count": 2,
   "metadata": {},
   "outputs": [],
   "source": [
    "import pandas as pd\n",
    "import numpy as np \n",
    "import pdfplumber\n",
    "import logging"
   ]
  },
  {
   "cell_type": "markdown",
   "metadata": {},
   "source": [
    "## 1. What is a DataFrame?\n",
    "#### A DataFrame is a 2-dimensional labeled data structure in pandas, similar to a table in SQL or Excel, with rows and columns.\n",
    "\n",
    "#### Key Characteristics:\n",
    "- Rows: Identified by an index (default is integers starting at 0).\n",
    "- Columns: Named and can hold different data types (strings, numbers, etc.).\n",
    "- Data Types: Each column can have a different type (e.g., int, float, object)."
   ]
  },
  {
   "cell_type": "markdown",
   "metadata": {},
   "source": [
    "## 2. Creating DataFrames\n",
    "- From a Dictionary"
   ]
  },
  {
   "cell_type": "code",
   "execution_count": 4,
   "metadata": {},
   "outputs": [
    {
     "data": {
      "text/html": [
       "<div>\n",
       "<style scoped>\n",
       "    .dataframe tbody tr th:only-of-type {\n",
       "        vertical-align: middle;\n",
       "    }\n",
       "\n",
       "    .dataframe tbody tr th {\n",
       "        vertical-align: top;\n",
       "    }\n",
       "\n",
       "    .dataframe thead th {\n",
       "        text-align: right;\n",
       "    }\n",
       "</style>\n",
       "<table border=\"1\" class=\"dataframe\">\n",
       "  <thead>\n",
       "    <tr style=\"text-align: right;\">\n",
       "      <th></th>\n",
       "      <th>Name</th>\n",
       "      <th>Age</th>\n",
       "      <th>Salary</th>\n",
       "    </tr>\n",
       "  </thead>\n",
       "  <tbody>\n",
       "    <tr>\n",
       "      <th>0</th>\n",
       "      <td>Alice</td>\n",
       "      <td>25</td>\n",
       "      <td>50000</td>\n",
       "    </tr>\n",
       "    <tr>\n",
       "      <th>1</th>\n",
       "      <td>Bob</td>\n",
       "      <td>30</td>\n",
       "      <td>60000</td>\n",
       "    </tr>\n",
       "    <tr>\n",
       "      <th>2</th>\n",
       "      <td>Charlie</td>\n",
       "      <td>35</td>\n",
       "      <td>70000</td>\n",
       "    </tr>\n",
       "  </tbody>\n",
       "</table>\n",
       "</div>"
      ],
      "text/plain": [
       "      Name  Age  Salary\n",
       "0    Alice   25   50000\n",
       "1      Bob   30   60000\n",
       "2  Charlie   35   70000"
      ]
     },
     "execution_count": 4,
     "metadata": {},
     "output_type": "execute_result"
    }
   ],
   "source": [
    "# import pandas as pd\n",
    "\n",
    "data = {\n",
    "    'Name': ['Alice', 'Bob', 'Charlie'],\n",
    "    'Age': [25, 30, 35],\n",
    "    'Salary': [50000, 60000, 70000]\n",
    "}\n",
    "df = pd.DataFrame(data)\n",
    "df\n"
   ]
  },
  {
   "cell_type": "markdown",
   "metadata": {},
   "source": [
    "- From a List of Dictionaries"
   ]
  },
  {
   "cell_type": "code",
   "execution_count": 6,
   "metadata": {},
   "outputs": [
    {
     "data": {
      "text/html": [
       "<div>\n",
       "<style scoped>\n",
       "    .dataframe tbody tr th:only-of-type {\n",
       "        vertical-align: middle;\n",
       "    }\n",
       "\n",
       "    .dataframe tbody tr th {\n",
       "        vertical-align: top;\n",
       "    }\n",
       "\n",
       "    .dataframe thead th {\n",
       "        text-align: right;\n",
       "    }\n",
       "</style>\n",
       "<table border=\"1\" class=\"dataframe\">\n",
       "  <thead>\n",
       "    <tr style=\"text-align: right;\">\n",
       "      <th></th>\n",
       "      <th>Name</th>\n",
       "      <th>Age</th>\n",
       "      <th>Salary</th>\n",
       "    </tr>\n",
       "  </thead>\n",
       "  <tbody>\n",
       "    <tr>\n",
       "      <th>0</th>\n",
       "      <td>Alice</td>\n",
       "      <td>25</td>\n",
       "      <td>50000</td>\n",
       "    </tr>\n",
       "    <tr>\n",
       "      <th>1</th>\n",
       "      <td>Bob</td>\n",
       "      <td>30</td>\n",
       "      <td>60000</td>\n",
       "    </tr>\n",
       "    <tr>\n",
       "      <th>2</th>\n",
       "      <td>Charlie</td>\n",
       "      <td>35</td>\n",
       "      <td>70000</td>\n",
       "    </tr>\n",
       "  </tbody>\n",
       "</table>\n",
       "</div>"
      ],
      "text/plain": [
       "      Name  Age  Salary\n",
       "0    Alice   25   50000\n",
       "1      Bob   30   60000\n",
       "2  Charlie   35   70000"
      ]
     },
     "execution_count": 6,
     "metadata": {},
     "output_type": "execute_result"
    }
   ],
   "source": [
    "data = [\n",
    "    {'Name': 'Alice', 'Age': 25, 'Salary': 50000},\n",
    "    {'Name': 'Bob', 'Age': 30, 'Salary': 60000},\n",
    "    {'Name': 'Charlie', 'Age': 35, 'Salary': 70000}\n",
    "]\n",
    "df = pd.DataFrame(data)\n",
    "df\n"
   ]
  },
  {
   "cell_type": "markdown",
   "metadata": {},
   "source": [
    "- From a CSV File"
   ]
  },
  {
   "cell_type": "code",
   "execution_count": 10,
   "metadata": {},
   "outputs": [
    {
     "data": {
      "text/html": [
       "<div>\n",
       "<style scoped>\n",
       "    .dataframe tbody tr th:only-of-type {\n",
       "        vertical-align: middle;\n",
       "    }\n",
       "\n",
       "    .dataframe tbody tr th {\n",
       "        vertical-align: top;\n",
       "    }\n",
       "\n",
       "    .dataframe thead th {\n",
       "        text-align: right;\n",
       "    }\n",
       "</style>\n",
       "<table border=\"1\" class=\"dataframe\">\n",
       "  <thead>\n",
       "    <tr style=\"text-align: right;\">\n",
       "      <th></th>\n",
       "      <th>ID</th>\n",
       "      <th>Name</th>\n",
       "      <th>Age</th>\n",
       "      <th>Department</th>\n",
       "      <th>Location</th>\n",
       "      <th>Salary</th>\n",
       "    </tr>\n",
       "  </thead>\n",
       "  <tbody>\n",
       "    <tr>\n",
       "      <th>0</th>\n",
       "      <td>1</td>\n",
       "      <td>Ankit Sharma</td>\n",
       "      <td>28</td>\n",
       "      <td>Engineering</td>\n",
       "      <td>Delhi</td>\n",
       "      <td>85000</td>\n",
       "    </tr>\n",
       "    <tr>\n",
       "      <th>1</th>\n",
       "      <td>2</td>\n",
       "      <td>Neha Gupta</td>\n",
       "      <td>32</td>\n",
       "      <td>Marketing</td>\n",
       "      <td>Mumbai</td>\n",
       "      <td>78000</td>\n",
       "    </tr>\n",
       "    <tr>\n",
       "      <th>2</th>\n",
       "      <td>3</td>\n",
       "      <td>Rahul Verma</td>\n",
       "      <td>29</td>\n",
       "      <td>Engineering</td>\n",
       "      <td>Bangalore</td>\n",
       "      <td>95000</td>\n",
       "    </tr>\n",
       "    <tr>\n",
       "      <th>3</th>\n",
       "      <td>4</td>\n",
       "      <td>Swati Patel</td>\n",
       "      <td>35</td>\n",
       "      <td>Finance</td>\n",
       "      <td>Chennai</td>\n",
       "      <td>110000</td>\n",
       "    </tr>\n",
       "    <tr>\n",
       "      <th>4</th>\n",
       "      <td>5</td>\n",
       "      <td>Vikram Singh</td>\n",
       "      <td>40</td>\n",
       "      <td>HR</td>\n",
       "      <td>Delhi</td>\n",
       "      <td>70000</td>\n",
       "    </tr>\n",
       "    <tr>\n",
       "      <th>5</th>\n",
       "      <td>6</td>\n",
       "      <td>Suman Reddy</td>\n",
       "      <td>26</td>\n",
       "      <td>Engineering</td>\n",
       "      <td>Hyderabad</td>\n",
       "      <td>90000</td>\n",
       "    </tr>\n",
       "    <tr>\n",
       "      <th>6</th>\n",
       "      <td>7</td>\n",
       "      <td>Meena Kaur</td>\n",
       "      <td>30</td>\n",
       "      <td>Sales</td>\n",
       "      <td>Mumbai</td>\n",
       "      <td>67000</td>\n",
       "    </tr>\n",
       "    <tr>\n",
       "      <th>7</th>\n",
       "      <td>8</td>\n",
       "      <td>Arun Kumar</td>\n",
       "      <td>34</td>\n",
       "      <td>Marketing</td>\n",
       "      <td>Delhi</td>\n",
       "      <td>80000</td>\n",
       "    </tr>\n",
       "    <tr>\n",
       "      <th>8</th>\n",
       "      <td>9</td>\n",
       "      <td>Preeti Joshi</td>\n",
       "      <td>27</td>\n",
       "      <td>Engineering</td>\n",
       "      <td>Bangalore</td>\n",
       "      <td>87000</td>\n",
       "    </tr>\n",
       "    <tr>\n",
       "      <th>9</th>\n",
       "      <td>10</td>\n",
       "      <td>Akash Singh</td>\n",
       "      <td>36</td>\n",
       "      <td>Finance</td>\n",
       "      <td>Hyderabad</td>\n",
       "      <td>120000</td>\n",
       "    </tr>\n",
       "  </tbody>\n",
       "</table>\n",
       "</div>"
      ],
      "text/plain": [
       "   ID          Name  Age   Department   Location  Salary\n",
       "0   1  Ankit Sharma   28  Engineering      Delhi   85000\n",
       "1   2    Neha Gupta   32    Marketing     Mumbai   78000\n",
       "2   3   Rahul Verma   29  Engineering  Bangalore   95000\n",
       "3   4   Swati Patel   35      Finance    Chennai  110000\n",
       "4   5  Vikram Singh   40           HR      Delhi   70000\n",
       "5   6   Suman Reddy   26  Engineering  Hyderabad   90000\n",
       "6   7    Meena Kaur   30        Sales     Mumbai   67000\n",
       "7   8    Arun Kumar   34    Marketing      Delhi   80000\n",
       "8   9  Preeti Joshi   27  Engineering  Bangalore   87000\n",
       "9  10   Akash Singh   36      Finance  Hyderabad  120000"
      ]
     },
     "execution_count": 10,
     "metadata": {},
     "output_type": "execute_result"
    }
   ],
   "source": [
    "emp_df = pd.read_csv('employee_data.csv')\n",
    "emp_df"
   ]
  },
  {
   "cell_type": "markdown",
   "metadata": {},
   "source": [
    "## 3. Basic Operations\n",
    "### View Data\n",
    "1. df.head(n) – First n rows (default is 5).\n",
    "2. df.tail(n) – Last n rows.\n",
    "3. df.shape – (rows, columns).\n",
    "4. df.info() – Summary of DataFrame.\n",
    "5. df.describe() – Descriptive statistics for numerical columns."
   ]
  },
  {
   "cell_type": "markdown",
   "metadata": {},
   "source": [
    "#### Access Columns\n",
    "1. df['ColumnName'] – Access a column as a Series.\n",
    "2. df[['Col1', 'Col2']] – Access multiple columns as a DataFrame.\n",
    "3. Access Rows\n",
    "4. By Index: df.loc[index] or df.iloc[index]."
   ]
  },
  {
   "cell_type": "code",
   "execution_count": 11,
   "metadata": {},
   "outputs": [
    {
     "data": {
      "text/html": [
       "<div>\n",
       "<style scoped>\n",
       "    .dataframe tbody tr th:only-of-type {\n",
       "        vertical-align: middle;\n",
       "    }\n",
       "\n",
       "    .dataframe tbody tr th {\n",
       "        vertical-align: top;\n",
       "    }\n",
       "\n",
       "    .dataframe thead th {\n",
       "        text-align: right;\n",
       "    }\n",
       "</style>\n",
       "<table border=\"1\" class=\"dataframe\">\n",
       "  <thead>\n",
       "    <tr style=\"text-align: right;\">\n",
       "      <th></th>\n",
       "      <th>ID</th>\n",
       "      <th>Name</th>\n",
       "      <th>Age</th>\n",
       "    </tr>\n",
       "  </thead>\n",
       "  <tbody>\n",
       "    <tr>\n",
       "      <th>0</th>\n",
       "      <td>1</td>\n",
       "      <td>Ankit Sharma</td>\n",
       "      <td>28</td>\n",
       "    </tr>\n",
       "    <tr>\n",
       "      <th>1</th>\n",
       "      <td>2</td>\n",
       "      <td>Neha Gupta</td>\n",
       "      <td>32</td>\n",
       "    </tr>\n",
       "    <tr>\n",
       "      <th>2</th>\n",
       "      <td>3</td>\n",
       "      <td>Rahul Verma</td>\n",
       "      <td>29</td>\n",
       "    </tr>\n",
       "    <tr>\n",
       "      <th>3</th>\n",
       "      <td>4</td>\n",
       "      <td>Swati Patel</td>\n",
       "      <td>35</td>\n",
       "    </tr>\n",
       "    <tr>\n",
       "      <th>4</th>\n",
       "      <td>5</td>\n",
       "      <td>Vikram Singh</td>\n",
       "      <td>40</td>\n",
       "    </tr>\n",
       "    <tr>\n",
       "      <th>5</th>\n",
       "      <td>6</td>\n",
       "      <td>Suman Reddy</td>\n",
       "      <td>26</td>\n",
       "    </tr>\n",
       "    <tr>\n",
       "      <th>6</th>\n",
       "      <td>7</td>\n",
       "      <td>Meena Kaur</td>\n",
       "      <td>30</td>\n",
       "    </tr>\n",
       "    <tr>\n",
       "      <th>7</th>\n",
       "      <td>8</td>\n",
       "      <td>Arun Kumar</td>\n",
       "      <td>34</td>\n",
       "    </tr>\n",
       "    <tr>\n",
       "      <th>8</th>\n",
       "      <td>9</td>\n",
       "      <td>Preeti Joshi</td>\n",
       "      <td>27</td>\n",
       "    </tr>\n",
       "    <tr>\n",
       "      <th>9</th>\n",
       "      <td>10</td>\n",
       "      <td>Akash Singh</td>\n",
       "      <td>36</td>\n",
       "    </tr>\n",
       "  </tbody>\n",
       "</table>\n",
       "</div>"
      ],
      "text/plain": [
       "   ID          Name  Age\n",
       "0   1  Ankit Sharma   28\n",
       "1   2    Neha Gupta   32\n",
       "2   3   Rahul Verma   29\n",
       "3   4   Swati Patel   35\n",
       "4   5  Vikram Singh   40\n",
       "5   6   Suman Reddy   26\n",
       "6   7    Meena Kaur   30\n",
       "7   8    Arun Kumar   34\n",
       "8   9  Preeti Joshi   27\n",
       "9  10   Akash Singh   36"
      ]
     },
     "execution_count": 11,
     "metadata": {},
     "output_type": "execute_result"
    }
   ],
   "source": [
    "emp_df[['ID','Name','Age']]"
   ]
  },
  {
   "cell_type": "code",
   "execution_count": 12,
   "metadata": {},
   "outputs": [
    {
     "data": {
      "text/plain": [
       "ID                     2\n",
       "Name          Neha Gupta\n",
       "Age                   32\n",
       "Department     Marketing\n",
       "Location          Mumbai\n",
       "Salary             78000\n",
       "Name: 1, dtype: object"
      ]
     },
     "execution_count": 12,
     "metadata": {},
     "output_type": "execute_result"
    }
   ],
   "source": [
    "emp_df.loc[1]"
   ]
  },
  {
   "cell_type": "code",
   "execution_count": null,
   "metadata": {},
   "outputs": [
    {
     "data": {
      "text/html": [
       "<div>\n",
       "<style scoped>\n",
       "    .dataframe tbody tr th:only-of-type {\n",
       "        vertical-align: middle;\n",
       "    }\n",
       "\n",
       "    .dataframe tbody tr th {\n",
       "        vertical-align: top;\n",
       "    }\n",
       "\n",
       "    .dataframe thead th {\n",
       "        text-align: right;\n",
       "    }\n",
       "</style>\n",
       "<table border=\"1\" class=\"dataframe\">\n",
       "  <thead>\n",
       "    <tr style=\"text-align: right;\">\n",
       "      <th></th>\n",
       "      <th>ID</th>\n",
       "      <th>Name</th>\n",
       "      <th>Age</th>\n",
       "      <th>Department</th>\n",
       "      <th>Location</th>\n",
       "      <th>Salary</th>\n",
       "    </tr>\n",
       "  </thead>\n",
       "  <tbody>\n",
       "    <tr>\n",
       "      <th>0</th>\n",
       "      <td>1</td>\n",
       "      <td>Ankit Sharma</td>\n",
       "      <td>28</td>\n",
       "      <td>Engineering</td>\n",
       "      <td>Delhi</td>\n",
       "      <td>85000</td>\n",
       "    </tr>\n",
       "    <tr>\n",
       "      <th>1</th>\n",
       "      <td>2</td>\n",
       "      <td>Neha Gupta</td>\n",
       "      <td>32</td>\n",
       "      <td>Marketing</td>\n",
       "      <td>Mumbai</td>\n",
       "      <td>78000</td>\n",
       "    </tr>\n",
       "    <tr>\n",
       "      <th>2</th>\n",
       "      <td>3</td>\n",
       "      <td>Rahul Verma</td>\n",
       "      <td>29</td>\n",
       "      <td>Engineering</td>\n",
       "      <td>Bangalore</td>\n",
       "      <td>95000</td>\n",
       "    </tr>\n",
       "  </tbody>\n",
       "</table>\n",
       "</div>"
      ],
      "text/plain": [
       "   ID          Name  Age   Department   Location  Salary\n",
       "0   1  Ankit Sharma   28  Engineering      Delhi   85000\n",
       "1   2    Neha Gupta   32    Marketing     Mumbai   78000\n",
       "2   3   Rahul Verma   29  Engineering  Bangalore   95000"
      ]
     },
     "execution_count": 15,
     "metadata": {},
     "output_type": "execute_result"
    }
   ],
   "source": [
    "emp_df.loc[:] ## emp_df.loc[:] [starting row : Ending rows ]"
   ]
  },
  {
   "cell_type": "markdown",
   "metadata": {},
   "source": [
    "## Rename Columns"
   ]
  },
  {
   "cell_type": "code",
   "execution_count": null,
   "metadata": {},
   "outputs": [],
   "source": [
    "# df.rename(columns={'OldName': 'NewName'}, inplace=True)"
   ]
  },
  {
   "cell_type": "markdown",
   "metadata": {},
   "source": [
    "## Drop Columns or Rows"
   ]
  },
  {
   "cell_type": "code",
   "execution_count": null,
   "metadata": {},
   "outputs": [],
   "source": [
    "df.drop(columns=['ColumnName'], inplace=True)  # Drop a column\n",
    "df.drop(index=0, inplace=True)                 # Drop a row"
   ]
  },
  {
   "cell_type": "markdown",
   "metadata": {},
   "source": [
    "## Grouping and Aggregation\n",
    "- Group Data"
   ]
  },
  {
   "cell_type": "code",
   "execution_count": 17,
   "metadata": {},
   "outputs": [
    {
     "data": {
      "text/plain": [
       "<pandas.core.groupby.generic.SeriesGroupBy object at 0x000002209C49DD90>"
      ]
     },
     "execution_count": 17,
     "metadata": {},
     "output_type": "execute_result"
    }
   ],
   "source": [
    "# grouped = df.groupby('ColumnName')['AnotherColumn'].sum()\n",
    "\n",
    "emp_df_grouped_df = emp_df.groupby('Department')['Name']\n",
    "emp_df_grouped_df\n"
   ]
  },
  {
   "cell_type": "markdown",
   "metadata": {},
   "source": [
    "## Iterating Over DataFrames"
   ]
  },
  {
   "cell_type": "code",
   "execution_count": 19,
   "metadata": {},
   "outputs": [
    {
     "name": "stdout",
     "output_type": "stream",
     "text": [
      "ID                       1\n",
      "Name          Ankit Sharma\n",
      "Age                     28\n",
      "Department     Engineering\n",
      "Location             Delhi\n",
      "Salary               85000\n",
      "Name: 0, dtype: object\n",
      "ID                     2\n",
      "Name          Neha Gupta\n",
      "Age                   32\n",
      "Department     Marketing\n",
      "Location          Mumbai\n",
      "Salary             78000\n",
      "Name: 1, dtype: object\n",
      "ID                      3\n",
      "Name          Rahul Verma\n",
      "Age                    29\n",
      "Department    Engineering\n",
      "Location        Bangalore\n",
      "Salary              95000\n",
      "Name: 2, dtype: object\n",
      "ID                      4\n",
      "Name          Swati Patel\n",
      "Age                    35\n",
      "Department        Finance\n",
      "Location          Chennai\n",
      "Salary             110000\n",
      "Name: 3, dtype: object\n",
      "ID                       5\n",
      "Name          Vikram Singh\n",
      "Age                     40\n",
      "Department              HR\n",
      "Location             Delhi\n",
      "Salary               70000\n",
      "Name: 4, dtype: object\n",
      "ID                      6\n",
      "Name          Suman Reddy\n",
      "Age                    26\n",
      "Department    Engineering\n",
      "Location        Hyderabad\n",
      "Salary              90000\n",
      "Name: 5, dtype: object\n",
      "ID                     7\n",
      "Name          Meena Kaur\n",
      "Age                   30\n",
      "Department         Sales\n",
      "Location          Mumbai\n",
      "Salary             67000\n",
      "Name: 6, dtype: object\n",
      "ID                     8\n",
      "Name          Arun Kumar\n",
      "Age                   34\n",
      "Department     Marketing\n",
      "Location           Delhi\n",
      "Salary             80000\n",
      "Name: 7, dtype: object\n",
      "ID                       9\n",
      "Name          Preeti Joshi\n",
      "Age                     27\n",
      "Department     Engineering\n",
      "Location         Bangalore\n",
      "Salary               87000\n",
      "Name: 8, dtype: object\n",
      "ID                     10\n",
      "Name          Akash Singh\n",
      "Age                    36\n",
      "Department        Finance\n",
      "Location        Hyderabad\n",
      "Salary             120000\n",
      "Name: 9, dtype: object\n"
     ]
    }
   ],
   "source": [
    "for index, row in df.iterrows():\n",
    "    print(row)\n"
   ]
  }
 ],
 "metadata": {
  "kernelspec": {
   "display_name": "Python 3",
   "language": "python",
   "name": "python3"
  },
  "language_info": {
   "codemirror_mode": {
    "name": "ipython",
    "version": 3
   },
   "file_extension": ".py",
   "mimetype": "text/x-python",
   "name": "python",
   "nbconvert_exporter": "python",
   "pygments_lexer": "ipython3",
   "version": "3.11.5"
  }
 },
 "nbformat": 4,
 "nbformat_minor": 2
}
