{
 "cells": [
  {
   "cell_type": "markdown",
   "metadata": {},
   "source": [
    "## logging module\n",
    "1. The logging module in Python is a powerful tool that allows you to track events that happen when your software runs.\n",
    "2. It provides a way to write messages to a variety of output channels (console, files, remote servers, etc.), which can help in debugging and monitoring your application."
   ]
  },
  {
   "cell_type": "code",
   "execution_count": 1,
   "metadata": {},
   "outputs": [],
   "source": [
    "import logging\n",
    "import pandas as pd\n",
    "import numpy as np"
   ]
  },
  {
   "cell_type": "markdown",
   "metadata": {},
   "source": [
    "## configuring Logger"
   ]
  },
  {
   "cell_type": "code",
   "execution_count": 2,
   "metadata": {},
   "outputs": [],
   "source": [
    "logging.basicConfig(\n",
    "    filename='Testing_logging_module.log',\n",
    "    level=logging.DEBUG,\n",
    "    format='%(asctime)s - %(name)s - %(levelname)s  %(message)s',\n",
    "    datefmt= '%Y-%m-%d %H:%M:%S'\n",
    ")"
   ]
  },
  {
   "cell_type": "code",
   "execution_count": 3,
   "metadata": {},
   "outputs": [],
   "source": [
    "logger = logging.getLogger('Testing_logging_module_logger')"
   ]
  },
  {
   "cell_type": "code",
   "execution_count": 4,
   "metadata": {},
   "outputs": [],
   "source": [
    "x = 10 \n",
    "name = 'madhu'\n",
    "try:\n",
    "    if x == 10 :\n",
    "        result = 10 + name\n",
    "        logger.info('succefully concatenated the two values which are {x} and {name}')\n",
    "except Exception as e:\n",
    "    # print(e)\n",
    "    logger.error(f\"{e}\")\n",
    "\n",
    "x = 10 \n",
    "name = 'madhu'\n",
    "try:\n",
    "    if x == 10 :\n",
    "        result = 10 + 20\n",
    "        logger.info('succefully added two numbers')\n",
    "except Exception as e:\n",
    "    # print(e)\n",
    "    logger.error(f\"{e}\")\n",
    "    \n",
    "# print(result)"
   ]
  }
 ],
 "metadata": {
  "kernelspec": {
   "display_name": "Python 3",
   "language": "python",
   "name": "python3"
  },
  "language_info": {
   "codemirror_mode": {
    "name": "ipython",
    "version": 3
   },
   "file_extension": ".py",
   "mimetype": "text/x-python",
   "name": "python",
   "nbconvert_exporter": "python",
   "pygments_lexer": "ipython3",
   "version": "3.7.1"
  }
 },
 "nbformat": 4,
 "nbformat_minor": 2
}
