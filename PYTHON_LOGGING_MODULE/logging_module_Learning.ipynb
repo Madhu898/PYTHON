{
 "cells": [
  {
   "cell_type": "markdown",
   "metadata": {},
   "source": [
    "## logging module\n",
    "1. The logging module in Python is a powerful tool that allows you to track events that happen when your software runs.\n",
    "2. It provides a way to write messages to a variety of output channels (console, files, remote servers, etc.), which can help in debugging and monitoring your application."
   ]
  },
  {
   "cell_type": "code",
   "execution_count": 1,
   "metadata": {},
   "outputs": [],
   "source": [
    "import logging\n",
    "import pandas as pd\n",
    "import numpy as np"
   ]
  },
  {
   "cell_type": "markdown",
   "metadata": {},
   "source": [
    "## configuring Logger"
   ]
  },
  {
   "cell_type": "code",
   "execution_count": 2,
   "metadata": {},
   "outputs": [],
   "source": [
    "logging.basicConfig(\n",
    "    filename='Testing_logging_module.log',\n",
    "    level=logging.DEBUG,\n",
    "    format='%(asctime)s - %(name)s - %(levelname)s  %(message)s',\n",
    "    datefmt= '%Y-%m-%d %H:%M:%S'\n",
    ")"
   ]
  },
  {
   "cell_type": "code",
   "execution_count": 3,
   "metadata": {},
   "outputs": [],
   "source": [
    "logger = logging.getLogger('Testing_logging_module_logger')"
   ]
  },
  {
   "cell_type": "code",
   "execution_count": 4,
   "metadata": {},
   "outputs": [],
   "source": [
    "x = 10 \n",
    "name = 'madhu'\n",
    "try:\n",
    "    if x == 10 :\n",
    "        result = 10 + name\n",
    "        logger.info('succefully concatenated the two values which are {x} and {name}')\n",
    "except Exception as e:\n",
    "    # print(e)\n",
    "    logger.error(f\"{e}\")\n",
    "\n",
    "x = 10 \n",
    "name = 'madhu'\n",
    "try:\n",
    "    if x == 10 :\n",
    "        result = 10 + 20\n",
    "        logger.info('succefully added two numbers')\n",
    "except Exception as e:\n",
    "    # print(e)\n",
    "    logger.error(f\"{e}\")\n",
    "    \n",
    "# print(result)"
   ]
  },
  {
   "cell_type": "code",
   "execution_count": 8,
   "metadata": {},
   "outputs": [
    {
     "data": {
      "text/plain": [
       "''"
      ]
     },
     "execution_count": 8,
     "metadata": {},
     "output_type": "execute_result"
    }
   ],
   "source": [
    "from fpdf import FPDF\n",
    "\n",
    "class PDF(FPDF):\n",
    "    def header(self):\n",
    "        self.set_font('Arial', 'B', 12)\n",
    "        self.cell(0, 10, 'Dealing with Files in Python: Comprehensive Guide', 0, 1, 'C')\n",
    "\n",
    "    def chapter_title(self, title):\n",
    "        self.set_font('Arial', 'B', 12)\n",
    "        self.cell(0, 10, title, 0, 1, 'L')\n",
    "        self.ln(5)\n",
    "\n",
    "    def chapter_body(self, body):\n",
    "        self.set_font('Arial', '', 10)\n",
    "        self.multi_cell(0, 10, body)\n",
    "        self.ln()\n",
    "\n",
    "# Initialize PDF\n",
    "pdf = PDF()\n",
    "pdf.add_page()\n",
    "\n",
    "# Title\n",
    "pdf.set_font('Arial', 'B', 16)\n",
    "pdf.cell(0, 10, 'Dealing with Files in Python: Comprehensive Guide', 0, 1, 'C')\n",
    "pdf.ln(10)\n",
    "\n",
    "# Adding content\n",
    "content = \"\"\"\n",
    "Python provides a powerful and easy-to-use interface for working with files. File handling in Python includes reading, writing, and manipulating files using built-in functions and libraries.\n",
    "\n",
    "---\n",
    "\n",
    "### Types of File Operations\n",
    "\n",
    "1. **Reading from a File**: Fetch content from an existing file.\n",
    "2. **Writing to a File**: Add content to a file (overwriting existing content).\n",
    "3. **Appending to a File**: Add content to the end of an existing file.\n",
    "4. **File Manipulations**: Perform operations like renaming, deleting, and creating files or directories.\n",
    "\n",
    "---\n",
    "\n",
    "### File Modes\n",
    "\n",
    "| Mode | Description                         |\n",
    "|------|-------------------------------------|\n",
    "| `r`  | Read mode (default).                |\n",
    "| `w`  | Write mode (overwrites existing content). |\n",
    "| `a`  | Append mode (adds to the end).      |\n",
    "| `r+` | Read and write mode.                |\n",
    "| `w+` | Write and read mode (overwrites).   |\n",
    "| `a+` | Append and read mode.               |\n",
    "| `b`  | Binary mode (e.g., `rb`, `wb`).     |\n",
    "\n",
    "---\n",
    "\n",
    "### Important Notes\n",
    "\n",
    "1. **Read (`r`) Mode**:\n",
    "   - If the file does not exist, Python raises a `FileNotFoundError`.\n",
    "\n",
    "2. **Write (`w`) Mode**:\n",
    "   - Creates a new file if it does not exist.\n",
    "   - Overwrites the content if the file already exists.\n",
    "\n",
    "3. **Append (`a`) Mode**:\n",
    "   - Creates a new file if it does not exist.\n",
    "   - Adds content to the end of the file if it exists.\n",
    "\n",
    "---\n",
    "\n",
    "### Real-Time Example: Processing a Log File\n",
    "\n",
    "```python\n",
    "import os\n",
    "\n",
    "def process_log_file(input_file, output_file):\n",
    "    try:\n",
    "        if not os.path.exists(input_file):\n",
    "            raise FileNotFoundError(f\"Input file {input_file} does not exist.\")\n",
    "\n",
    "        with open(input_file, 'r') as infile, open(output_file, 'w') as outfile:\n",
    "            for line in infile:\n",
    "                # Filter lines containing the word 'ERROR'\n",
    "                if 'ERROR' in line:\n",
    "                    outfile.write(line)\n",
    "\n",
    "        print(f\"Filtered log entries saved to {output_file}.\")\n",
    "    except Exception as e:\n",
    "        print(f\"An error occurred: {e}\")\n",
    "\n",
    "# Example Usage\n",
    "process_log_file('application.log', 'error_logs.txt') \"\"\"\n",
    "\n",
    "\n",
    "\n",
    "\n",
    "file_path = \"Dealing_with_Files_in_Python.pdf\" \n",
    "pdf.output(file_path)"
   ]
  },
  {
   "cell_type": "code",
   "execution_count": 7,
   "metadata": {},
   "outputs": [
    {
     "name": "stdout",
     "output_type": "stream",
     "text": [
      "^C\n"
     ]
    },
    {
     "name": "stdout",
     "output_type": "stream",
     "text": [
      "Collecting fpdf\n",
      "  Downloading fpdf-1.7.2.tar.gz (39 kB)\n",
      "  Installing build dependencies: started\n",
      "  Installing build dependencies: finished with status 'done'\n",
      "  Getting requirements to build wheel: started\n",
      "  Getting requirements to build wheel: finished with status 'done'\n",
      "  Installing backend dependencies: started\n",
      "  Installing backend dependencies: finished with status 'done'\n",
      "  Preparing metadata (pyproject.toml): started\n",
      "  Preparing metadata (pyproject.toml): finished with status 'done'\n",
      "Building wheels for collected packages: fpdf\n",
      "  Building wheel for fpdf (pyproject.toml): started\n",
      "  Building wheel for fpdf (pyproject.toml): finished with status 'done'\n",
      "  Created wheel for fpdf: filename=fpdf-1.7.2-py2.py3-none-any.whl size=40712 sha256=ecffd0dda7bd9b3078a21fb6823e8d6f0c5def629be6a74debd5adff3de7ee07\n",
      "  Stored in directory: c:\\users\\xhmiicdb04\\appdata\\local\\pip\\cache\\wheels\\d7\\ca\\c8\\86467e7957bbbcbdf4cf4870fc7dc95e9a16404b2e3c3a98c3\n",
      "Successfully built fpdf\n",
      "Installing collected packages: fpdf\n",
      "Successfully installed fpdf-1.7.2\n"
     ]
    }
   ],
   "source": [
    "! pip install fpdf"
   ]
  }
 ],
 "metadata": {
  "kernelspec": {
   "display_name": "Python 3",
   "language": "python",
   "name": "python3"
  },
  "language_info": {
   "codemirror_mode": {
    "name": "ipython",
    "version": 3
   },
   "file_extension": ".py",
   "mimetype": "text/x-python",
   "name": "python",
   "nbconvert_exporter": "python",
   "pygments_lexer": "ipython3",
   "version": "3.7.1"
  }
 },
 "nbformat": 4,
 "nbformat_minor": 2
}
